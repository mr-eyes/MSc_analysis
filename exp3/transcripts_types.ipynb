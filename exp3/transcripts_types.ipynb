{
 "cells": [
  {
   "cell_type": "code",
   "execution_count": 10,
   "metadata": {},
   "outputs": [
    {
     "name": "stdout",
     "output_type": "stream",
     "text": [
      "1-unitary_pseudogene: 95\n",
      "2-rRNA: 544\n",
      "3-lincRNA: 13598\n",
      "4-IG_C_pseudogene: 9\n",
      "5-translated_processed_pseudogene: 2\n",
      "6-retained_intron: 27834\n",
      "7-sense_intronic: 958\n",
      "8-IG_V_gene: 144\n",
      "9-polymorphic_pseudogene: 59\n",
      "10-Mt_rRNA: 2\n",
      "11-misc_RNA: 2227\n",
      "12-Mt_tRNA: 22\n",
      "13-scaRNA: 49\n",
      "14-IG_J_gene: 18\n",
      "15-TR_J_pseudogene: 4\n",
      "16-IG_J_pseudogene: 3\n",
      "17-scRNA: 1\n",
      "18-TEC: 1163\n",
      "19-protein_coding: 82335\n",
      "20-bidirectional_promoter_lncRNA: 243\n",
      "21-TR_V_pseudogene: 33\n",
      "22-sense_overlapping: 350\n",
      "23-TR_J_gene: 79\n",
      "24-TR_D_gene: 4\n",
      "25-IG_V_pseudogene: 188\n",
      "26-nonsense_mediated_decay: 14889\n",
      "27-pseudogene: 37\n",
      "28-snRNA: 1900\n",
      "29-sRNA: 5\n",
      "30-unprocessed_pseudogene: 2665\n",
      "31-TR_V_gene: 106\n",
      "32-transcribed_unprocessed_pseudogene: 862\n",
      "33-3prime_overlapping_ncRNA: 40\n",
      "34-miRNA: 1881\n",
      "35-non_coding: 3\n",
      "36-macro_lncRNA: 1\n",
      "37-antisense: 11161\n",
      "38-IG_C_gene: 23\n",
      "39-ribozyme: 8\n",
      "40-IG_D_gene: 37\n",
      "41-TR_C_gene: 6\n",
      "42-vaultRNA: 1\n",
      "43-IG_pseudogene: 1\n",
      "44-processed_transcript: 28382\n",
      "45-transcribed_processed_pseudogene: 472\n",
      "46-processed_pseudogene: 10221\n",
      "47-snoRNA: 955\n",
      "48-non_stop_decay: 87\n",
      "49-transcribed_unitary_pseudogene: 128\n",
      "________________________________________________________________________________\n",
      "Total:  203835\n"
     ]
    }
   ],
   "source": [
    "types = {}\n",
    "with open(\"gencode.v28.transcripts.fa\",\"r\") as tr:\n",
    "    for line in tr:\n",
    "        if line[0] == \">\":\n",
    "            _type = line.split(\"|\")[-2]\n",
    "            if _type in types:\n",
    "                types[_type] += 1\n",
    "            else:\n",
    "                types[_type] = 1\n",
    "\n",
    "total = 0\n",
    "count = 1\n",
    "\n",
    "for key,val in types.iteritems():\n",
    "    total += val\n",
    "    print \"%d-%s: %d\" % (count, key, val)\n",
    "    count += 1\n",
    "\n",
    "print \"_\" * 80\n",
    "print \"Total: \", total\n"
   ]
  }
 ],
 "metadata": {
  "kernelspec": {
   "display_name": "Python 2",
   "language": "python",
   "name": "python2"
  },
  "language_info": {
   "codemirror_mode": {
    "name": "ipython",
    "version": 2
   },
   "file_extension": ".py",
   "mimetype": "text/x-python",
   "name": "python",
   "nbconvert_exporter": "python",
   "pygments_lexer": "ipython2",
   "version": "2.7.15rc1"
  }
 },
 "nbformat": 4,
 "nbformat_minor": 2
}
